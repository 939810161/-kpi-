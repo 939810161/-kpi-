{
 "cells": [
  {
   "cell_type": "markdown",
   "metadata": {},
   "source": [
    "## 线性回归代码实现"
   ]
  },
  {
   "cell_type": "code",
   "execution_count": 1,
   "metadata": {
    "collapsed": true
   },
   "outputs": [],
   "source": [
    "import numpy as np\n",
    "import matplotlib.pyplot as plt"
   ]
  },
  {
   "cell_type": "markdown",
   "metadata": {},
   "source": [
    "##### 定义一个加载数据的函数"
   ]
  },
  {
   "cell_type": "code",
   "execution_count": 2,
   "metadata": {
    "collapsed": true
   },
   "outputs": [],
   "source": [
    "def loaddata():\n",
    "    data = np.loadtxt('data/data1.txt',delimiter=',')\n",
    "    n = data.shape[1]-1 #特征数\n",
    "    X = data[:,0:n]\n",
    "    y = data[:,-1].reshape(-1,1)\n",
    "    return X,y"
   ]
  },
  {
   "cell_type": "markdown",
   "metadata": {},
   "source": [
    "##### 特征归一化\n",
    "归一化有很多种方式，我们这里采取的方式是：对每一个特征，这列中的每个数据分别减去这列的均值，然后再除以这列的方差"
   ]
  },
  {
   "cell_type": "code",
   "execution_count": 3,
   "metadata": {
    "collapsed": true
   },
   "outputs": [],
   "source": [
    "def featureNormalize(X):\n",
    "    mu = np.average(X,axis=0)\n",
    "    sigma =np.std(X,axis=0,ddof=1)\n",
    "    X = (X-mu)/sigma\n",
    "    return X,mu,sigma"
   ]
  },
  {
   "cell_type": "markdown",
   "metadata": {},
   "source": [
    "##### LASSO回归核心代码\n",
    "<img src=\"images/08.png\" width=\"300\" align=\"left\"/>\n",
    "<p>\n",
    "<img src=\"images/09.png\" width=\"300\" align=\"left\"/>"
   ]
  },
  {
   "cell_type": "code",
   "execution_count": 4,
   "metadata": {
    "collapsed": true
   },
   "outputs": [],
   "source": [
    "def lasso_regression(X, y, iterations,lambd=0.2):\n",
    "    m, n = X.shape\n",
    "    theta = np.matrix(np.zeros((n, 1)))\n",
    "    for it in range(iterations):\n",
    "        for k in range(n):#n个特征\n",
    "            # 计算常量值z_k和p_k\n",
    "            z_k = np.sum(X[:, k]**2)\n",
    "            p_k = 0\n",
    "            for i in range(m):\n",
    "                #开始，根据公式计算p_k\n",
    "                p_k += X[i,k] * (y[i,0]-np.sum(X[i,j]*theta[j,0] for j in range(n) if j!=k))\n",
    "                #结束\n",
    "            #w_k是个临时变量，根据p_k的不同取值进行计算\n",
    "            if p_k < -lambd/2:\n",
    "                w_k = (p_k + lambd/2) / z_k\n",
    "            elif p_k > lambd/2:\n",
    "                w_k = (p_k - lambd/2) / z_k\n",
    "            else:\n",
    "                w_k = 0\n",
    "            theta[k, 0] = w_k\n",
    "    return theta"
   ]
  },
  {
   "cell_type": "code",
   "execution_count": 5,
   "metadata": {},
   "outputs": [
    {
     "name": "stderr",
     "output_type": "stream",
     "text": [
      "D:\\anaconda3\\envs\\keras\\lib\\site-packages\\ipykernel_launcher.py:11: DeprecationWarning: Calling np.sum(generator) is deprecated, and in the future will give a different result. Use np.sum(np.fromiter(generator)) or the python sum builtin instead.\n",
      "  # This is added back by InteractiveShellApp.init_path()\n"
     ]
    },
    {
     "name": "stdout",
     "output_type": "stream",
     "text": [
      "[[5.83810412]\n",
      " [4.61585958]]\n"
     ]
    },
    {
     "data": {
      "image/png": "[encoded data removed]",
      "text/plain": [
       "<Figure size 432x288 with 1 Axes>"
      ]
     },
     "metadata": {},
     "output_type": "display_data"
    }
   ],
   "source": [
    "X,y = loaddata()\n",
    "X,mu,sigma = featureNormalize(X)\n",
    "\n",
    "\n",
    "X_1 = np.insert(X, 0, values=1, axis=1)\n",
    "theta = lasso_regression(X_1,y,100)\n",
    "print(theta)\n",
    "plt.scatter(X,y)\n",
    "line = theta[0,0]+theta[1,0]*X\n",
    "plt.plot(X,line)\n",
    "plt.show()"
   ]
  },
  {
   "cell_type": "code",
   "execution_count": null,
   "metadata": {
    "collapsed": true
   },
   "outputs": [],
   "source": []
  }
 ],
 "metadata": {
  "kernelspec": {
   "display_name": "Python 3",
   "language": "python",
   "name": "python3"
  },
  "language_info": {
   "codemirror_mode": {
    "name": "ipython",
    "version": 3
   },
   "file_extension": ".py",
   "mimetype": "text/x-python",
   "name": "python",
   "nbconvert_exporter": "python",
   "pygments_lexer": "ipython3",
   "version": "3.6.2"
  }
 },
 "nbformat": 4,
 "nbformat_minor": 2
}
